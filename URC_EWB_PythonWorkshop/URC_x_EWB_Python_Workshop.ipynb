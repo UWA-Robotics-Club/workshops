{
  "cells": [
    {
      "cell_type": "markdown",
      "metadata": {
        "id": "vCQHfRiGPeLh"
      },
      "source": [
        "<h1>Welcome to Python and Pizza! 🐍🍕</h1>\n",
        "\n",
        "<p>For this workshop we'll be using the Google Colab platform to deliver content.\n",
        "Please follow along with the presenter as we navigate through each section. The layout will make it easy for members to run and test their own code. </p>\n",
        "<br></br>\n",
        "\n",
        "<h3>What will we cover in this workshop?</h3>\n",
        "<p>We will teach programming in Python on a beginner level. There will be discussion of data visualisation tools such as Plotly, and data manipulation with Pandas.</p>\n"
      ]
    },
    {
      "cell_type": "markdown",
      "metadata": {},
      "source": [
        "<img src=\"https://files.realpython.com/media/Newbie_Watermarked.a9319218252a.jpg\"></img>"
      ]
    },
    {
      "cell_type": "markdown",
      "metadata": {},
      "source": [
        "# Why learn Python?"
      ]
    },
    {
      "cell_type": "markdown",
      "metadata": {
        "id": "TkzyCeNRPZ-3"
      },
      "source": [
        "Python provides a beginner-friendly introduction to problem solving with computers.\n",
        "There are over 100,000 publically available libraries so chances are, there is already something out there that can help you with your problem. Learning Python will leave you in good stead with many companies, as it is an essential part of a person's problem solving toolkit today.\n",
        "\n",
        "1.  It's fun!\n",
        "\n",
        "2.  Practical applications\n",
        "- Web development\n",
        "- AI and Machine Learning\n",
        "- Data Analytics and Visualisation\n",
        "- Games!!\n",
        "\n",
        "3.  Real world usage\n",
        "- NASA\n",
        "- Intel\n",
        "- Pixar\n",
        "- Netflix\n",
        "- Facebook\n",
        "- Tesla\n",
        "\n",
        "4. It's versatile\n",
        "- Complete both small and complex tasks\n",
        "\n",
        "5. High-demand skillset\n",
        "\n"
      ]
    },
    {
      "cell_type": "markdown",
      "metadata": {
        "id": "2W6eZsQEPbD9"
      },
      "source": [
        "# Basics Part 1: How to use Google Colab?"
      ]
    },
    {
      "cell_type": "markdown",
      "metadata": {
        "id": "76AH0to9TpIN"
      },
      "source": [
        "First let's introduce the code cells seen below. Each cell can contain a separate sequence of code (logical instructions), which can be run by clicking the \"Run Cell\" button or pressing Ctrl+Enter over a cell. \n",
        "<br></br>\n",
        "*Important Notes:*\n",
        "\n",
        "1.   Any output is shown below the cell after pressing Run.\n",
        "2.   If the code is faulty, there will be an error message giving information about where the error was.\n",
        "3.   Each cell can be run separately to make separate changes, but they are all part of the same program. Variables will be the same across different cells.\n",
        "4.   After running a cell, there is a number in square brackets [ ] indicating when it was run.\n",
        "\n"
      ]
    },
    {
      "cell_type": "code",
      "execution_count": null,
      "metadata": {
        "id": "lD286dY98V-H"
      },
      "outputs": [],
      "source": [
        "# This is an empty code cell. It doesn't contain any code, just this text."
      ]
    },
    {
      "cell_type": "markdown",
      "metadata": {
        "id": "oIWsZCeI8mFT"
      },
      "source": [
        "# Basics Part 2: Python Fundamentals"
      ]
    },
    {
      "cell_type": "markdown",
      "metadata": {
        "id": "wHo7LieO65vF"
      },
      "source": [
        "##Variables\n",
        "<p>Variables are useful to store information throughout the lifetime of our program. <br> They can be given a name and assigned values:\n",
        "</p>"
      ]
    },
    {
      "cell_type": "code",
      "execution_count": null,
      "metadata": {
        "id": "FWCTyQqr9JU-"
      },
      "outputs": [],
      "source": [
        "a = 10         "
      ]
    },
    {
      "cell_type": "markdown",
      "metadata": {
        "id": "gl4eFTfs9tS_"
      },
      "source": [
        "<p>If we run the above cell, what we have done is given the variable 'a' a value of 10. <br> As a sanity check, let's print out the value of 'a'.</p>"
      ]
    },
    {
      "cell_type": "code",
      "execution_count": null,
      "metadata": {
        "colab": {
          "base_uri": "https://localhost:8080/"
        },
        "id": "xoeBtrui-C5j",
        "outputId": "501b9abb-e214-49a3-f3af-4c3a7c3edcd4"
      },
      "outputs": [
        {
          "name": "stdout",
          "output_type": "stream",
          "text": [
            "10\n"
          ]
        }
      ],
      "source": [
        "print(a)"
      ]
    },
    {
      "cell_type": "markdown",
      "metadata": {
        "id": "qBpatLMB-EoC"
      },
      "source": [
        "<p>Running the above cell should display the number 10 below the cell. <br> The print statement is a useful tool to determine variable values, debug and display information to the programmer.</p>"
      ]
    },
    {
      "cell_type": "markdown",
      "metadata": {
        "id": "qQ1-qC2q-gXP"
      },
      "source": [
        "##Variable Types\n",
        "\n",
        "Another thing to remember about variables is that they also have a 'type'.\n",
        "<br> The 'type' of a is currently an int (short for integer), which can be any whole number.\n",
        "<br></br> \n",
        "**Common variable types**:\n",
        "\n",
        "<pre>\n",
        "*   int       (whole numbers)\n",
        "*   float     (numbers with decimals)\n",
        "*   string    (sequences of characters)\n",
        "*   boolean   (either true or false)\n",
        "</pre>\n",
        "\n",
        "<br> There are more types which are used to hold more than one value at a time, such as:\n",
        "\n",
        "<pre>\n",
        "*   list        (stores an array of indexed items)\n",
        "*   dictionary  (stores key, value pairs)\n",
        "*   tuple       (a pair of variables)\n",
        "</pre>\n",
        "\n",
        "<br>\n",
        "<p>Below is a brief example of how to define these variable types:"
      ]
    },
    {
      "cell_type": "code",
      "execution_count": null,
      "metadata": {
        "id": "lqHosMMiDjTN"
      },
      "outputs": [],
      "source": [
        "a = 10              #int\n",
        "a = 10.5            #float\n",
        "a = \"hello world\"   #string   -   must define using wrapped apostrophes '' or \"\"\n",
        "a = True            #boolean"
      ]
    },
    {
      "cell_type": "markdown",
      "metadata": {
        "id": "5wkiDAwRESI3"
      },
      "source": [
        "<p>Note that we reused the variable name 'a'. \n",
        "\n",
        "<br>This is extremely cursed code. But it proves a simple point. In Python, you can change a variable's type without any issues. Here we change it from type int, to float, to string and then to boolean.\n",
        "\n",
        "<br>There's one other thing \"wrong\" with this code. The name 'a' is not very good as it can be easy to forget what its purpose is. We use naming conventions in Python to help programmers easily tell what the code is supposed to do.\n",
        "\n",
        "<br>The following example uses better coding practices, and shows how to define the rest of the variable types:"
      ]
    },
    {
      "cell_type": "code",
      "execution_count": null,
      "metadata": {
        "id": "0vNFWjFxE7yd"
      },
      "outputs": [],
      "source": [
        "# list of ints\n",
        "intList = [0, 1, 2, 3]      \n",
        "\n",
        "# dictionary pairing names (strings) to ages (ints)\n",
        "agesDict = {'Bob': 15, 'Boba Fett': 20, 'Bobbinson': 99, 'Bobert': 150}      \n",
        "\n",
        "# a tuple containing booleans\n",
        "booleanValues = (True, False, True)\n",
        "\n",
        "# these types can be initialised empty, like so\n",
        "# note the use of different brackets to define a different type\n",
        "intList = []\n",
        "agesDict = {}\n",
        "booleanValues = ()"
      ]
    },
    {
      "cell_type": "markdown",
      "metadata": {
        "id": "4oqnZo6nOk3q"
      },
      "source": [
        "Each of the secondary variable types will have their own specific methods to add/remove elements.\n",
        "\n",
        "One example is shown below:\n",
        "\n"
      ]
    },
    {
      "cell_type": "code",
      "execution_count": null,
      "metadata": {
        "colab": {
          "base_uri": "https://localhost:8080/"
        },
        "id": "tssqV93n3Y6N",
        "outputId": "77d34db1-632d-4bb4-a0cf-27b90b81d239"
      },
      "outputs": [
        {
          "name": "stdout",
          "output_type": "stream",
          "text": [
            "[1, 2, 3, 5]\n",
            "5\n"
          ]
        }
      ],
      "source": [
        "intList = [1, 2, 3]\n",
        "intList.append(5)     # The list.append() function adds the new element to the end of the list\n",
        "print(intList)        # Run this code to see the change\n",
        "\n",
        "num = intList.pop()   # The list.pop() will remove the last item of the list, and return it\n",
        "print(num)            # What will this print?"
      ]
    },
    {
      "cell_type": "markdown",
      "metadata": {
        "id": "poFvmt3O4vbA"
      },
      "source": [
        "We can also do something called 'indexing' to fetch elements of a list/dictionary placed at a certain index. Note that in most programming languages including Python, indexes are counted beginning from 0. \n",
        "\n",
        "<br>For example:"
      ]
    },
    {
      "cell_type": "code",
      "execution_count": null,
      "metadata": {
        "colab": {
          "base_uri": "https://localhost:8080/"
        },
        "id": "qbScZFss47YU",
        "outputId": "58ded82b-88a1-4dbd-bc48-e4904896504a"
      },
      "outputs": [
        {
          "name": "stdout",
          "output_type": "stream",
          "text": [
            "a\n",
            "c\n",
            "world\n"
          ]
        }
      ],
      "source": [
        "intList = [\"a\", \"b\", \"c\"]   # \"a\" has index 0\n",
        "                            # \"b\" has index 1\n",
        "                            # \"c\" has index 2\n",
        "\n",
        "var = intList[0]\n",
        "print(var)                  # What will this return? Run the code and see!\n",
        "\n",
        "var = intList[2]\n",
        "print(var)                  # What will this return? Run the code and see!\n",
        "\n",
        "\n",
        "# Dictionaries are indexed into using key values\n",
        "dict1 = {\"hello\": \"world\", \"URC\": \"Is cool\", \"EWB\": \"Is also cool\"}   \n",
        "result = dict1[\"hello\"]\n",
        "print(result)"
      ]
    },
    {
      "cell_type": "markdown",
      "metadata": {
        "id": "3nvf7V-eQP8q"
      },
      "source": [
        "##Operations\n",
        "\n",
        "<p>Mathematical operations are commonly used with variables in programming.</p>\n",
        "\n",
        "![picture1](https://drive.google.com/uc?export=view&id=1lL9g17nAEsA4RfLrcdkHOTQPUIltYgpQ)"
      ]
    },
    {
      "cell_type": "markdown",
      "metadata": {
        "id": "Dwoxxl4gWTDA"
      },
      "source": [
        "##Functions\n",
        "\n",
        "Functions are a useful part of any program. They take an input, process the input, and then return an output. This is similar to mathematical functions of the form f(x).\n",
        "\n",
        "<br>\n",
        "<p>In python we declare a function using the following formatting:</p>\n",
        "\n",
        "\n",
        "*   `def` keyword to say we are defining a function\n",
        "*   Here `myFunction` is the name of our function\n",
        "*   `myFunction` takes no inputs, as indicated by the empty brackets `()`\n",
        "*   All functions have a `return` statement, to give an output. Here we have no output as the `return` statement is empty\n",
        "\n",
        "\n"
      ]
    },
    {
      "cell_type": "code",
      "execution_count": null,
      "metadata": {
        "id": "yPfG5LMRXhgm"
      },
      "outputs": [],
      "source": [
        "def myFunction():\n",
        "    return"
      ]
    },
    {
      "cell_type": "markdown",
      "metadata": {
        "id": "qLO0qsCaX1In"
      },
      "source": [
        "The next function below is more intricate, and must take in some inputs. We call these parameters.\n",
        "\n",
        "<br>Note that it also performs the operation `value1 + value1`.\n",
        "The function then returns the result of that operation. The return statement also exits the function.\n",
        "\n"
      ]
    },
    {
      "cell_type": "code",
      "execution_count": null,
      "metadata": {
        "id": "1WdZ_4JqYDMa"
      },
      "outputs": [],
      "source": [
        "def double(val1):\n",
        "    result = val1 + val1\n",
        "    return result\n",
        "\n",
        "# equivalent way of writing\n",
        "def double2(val2):\n",
        "    return val2 + val2"
      ]
    },
    {
      "cell_type": "markdown",
      "metadata": {
        "id": "1nFSC6T8Zn35"
      },
      "source": [
        "After running the above code cell, the function will be defined. You can then use the function by using the following format below. We \"call\" the function `double` using an input parameter of 10. The return value of the function is then assigned to the variable number."
      ]
    },
    {
      "cell_type": "code",
      "execution_count": null,
      "metadata": {
        "colab": {
          "base_uri": "https://localhost:8080/"
        },
        "id": "wdIAMkaDZxNP",
        "outputId": "fe97e8b7-8f2b-4b6b-f55c-d18e1d5a526b"
      },
      "outputs": [
        {
          "name": "stdout",
          "output_type": "stream",
          "text": [
            "20\n"
          ]
        }
      ],
      "source": [
        "number = double(10)\n",
        "print(number)           # expect 20"
      ]
    },
    {
      "cell_type": "markdown",
      "metadata": {
        "id": "sNyseUHkazc7"
      },
      "source": [
        "##Conditional Statements\n",
        "\n",
        "Conditional statements help build the logical flow of our program. The program equates them to be either `True` or `False` (Note that these are boolean values).\n",
        "\n",
        "We can either use symbols to write conditional statements:\n",
        "![picture2](https://drive.google.com/uc?export=view&id=1DDZHO5I1HQJMlHzUUzRj_hQaknNlzMu0)\n",
        "\n",
        "Or we can use keywords such as the following:\n",
        "![picture3](https://drive.google.com/uc?export=view&id=1PiH34TynEAId_ka9T9fECZuamyw4ZZ2D)\n",
        "\n",
        "<br>Another useful feature of Python is the `if` and `else` statement. We use if-else statements to change what the code will do depending on what conditions are present. Say for example we want to divide a number by 2 if it is above 10, otherwise we want to multiply it by 2. The required code would look like this:\n",
        "\n"
      ]
    },
    {
      "cell_type": "code",
      "execution_count": null,
      "metadata": {
        "id": "wTut1MH1cNvW"
      },
      "outputs": [],
      "source": [
        "def myFunction(num):\n",
        "    if (num > 10):              # Here our condition is whether num > 10. \n",
        "        return num / 2          # If the condition equates to True, this line is run, exiting the function.\n",
        "    else:\n",
        "        return num * 2          # Else statements are run when the condition equates to False."
      ]
    },
    {
      "cell_type": "markdown",
      "metadata": {
        "id": "Iy2JoBcp2Zgt"
      },
      "source": [
        "##Loops\n",
        "\n",
        "Loops allow us to iterate through a sequence, which could be a list, tuple, range of numbers or more. They are another important feature of many programming languages as they allow us to easily represent repetitive tasks.\n",
        "\n",
        "<br>Common variants are the for loop, do-while loop and while-do loop. For this workshop we will only cover the for loop as it is the most important.\n",
        "\n",
        "<br>To iterate through a sequence, use the following syntax:"
      ]
    },
    {
      "cell_type": "code",
      "execution_count": null,
      "metadata": {
        "colab": {
          "base_uri": "https://localhost:8080/"
        },
        "id": "Rry8xmJo3qei",
        "outputId": "3386d95b-63ca-4be0-9811-7a901dd9f8f7"
      },
      "outputs": [
        {
          "name": "stdout",
          "output_type": "stream",
          "text": [
            "0\n",
            "1\n",
            "2\n",
            "6\n",
            "7\n",
            "8\n"
          ]
        }
      ],
      "source": [
        "numList = [0, 1, 2, 6, 7, 8]\n",
        "\n",
        "for num in numList:\n",
        "    print(num)          # This will print each number on a separate line"
      ]
    },
    {
      "cell_type": "markdown",
      "metadata": {
        "id": "iii31yr831Gi"
      },
      "source": [
        "We use a variable to represent the current element, in this case `num`. This variable is updated for each iteration of the loop. We also select a sequence of elements to iterate through. In this case we chose a list.\n",
        "\n",
        "<br>We will now see how to use the in-built `range()` function to iterate through a range of numbers:"
      ]
    },
    {
      "cell_type": "code",
      "execution_count": null,
      "metadata": {
        "colab": {
          "base_uri": "https://localhost:8080/"
        },
        "id": "mliUvfUc4MeX",
        "outputId": "40bca829-f0d1-4ae6-87f3-f4cd323eb9f0"
      },
      "outputs": [
        {
          "name": "stdout",
          "output_type": "stream",
          "text": [
            "0\n",
            "1\n",
            "2\n",
            "3\n",
            "4\n"
          ]
        }
      ],
      "source": [
        "for i in range(5):\n",
        "    print(i)"
      ]
    },
    {
      "cell_type": "markdown",
      "metadata": {
        "id": "MA0sJP1P58tS"
      },
      "source": [
        "# Data Manipulation: Using Pandas"
      ]
    },
    {
      "cell_type": "markdown",
      "metadata": {
        "id": "yVXO9Ox-8hPz"
      },
      "source": [
        "##What is Pandas?\n",
        "\n",
        "Pandas is a software library containing data manipulation and analysis tools. \n",
        "\n",
        "> Expound further on what pandas is \n",
        "\n",
        "<br>To start using pandas, we must first install the module. On your own computer, this would be done by running a command on the terminal: `pip install pandas`. \n",
        "However the necessary modules have already been installed for Google Colab, so there is no need to do that.\n",
        "\n",
        "<br>To make use of the library, we must import it into our code. This is done like so:"
      ]
    },
    {
      "cell_type": "code",
      "execution_count": 2,
      "metadata": {
        "id": "3yu49HNzCwXc"
      },
      "outputs": [],
      "source": [
        "import pandas as pd"
      ]
    },
    {
      "cell_type": "markdown",
      "metadata": {
        "id": "pmyOzXdnDLVa"
      },
      "source": [
        "Typically these import statements are included at the beginning of our code. Since we can run code cells sequentially in Google Colab, running the above import will allow us access to library functions anywhere else within this document.\n",
        "\n",
        "<br>Also of importance, note that we import `pandas` under the nickname `pd`. This nickname will come up later as we use the library, and just helps us shorten the code a little bit.\n",
        "\n",
        "<br>Moving on, let us look at the first `pandas` object you can create, called a Series:"
      ]
    },
    {
      "cell_type": "code",
      "execution_count": null,
      "metadata": {
        "colab": {
          "base_uri": "https://localhost:8080/"
        },
        "id": "d-ZYe-3QELa3",
        "outputId": "d69c384f-45ad-4384-852a-b17f4b5f1563"
      },
      "outputs": [
        {
          "data": {
            "text/plain": [
              "0    5\n",
              "1    6\n",
              "2    7\n",
              "3    8\n",
              "dtype: int64"
            ]
          },
          "execution_count": 20,
          "metadata": {},
          "output_type": "execute_result"
        }
      ],
      "source": [
        "myList = [5, 6, 7, 8]\n",
        "mySeries = pd.Series(myList)\n",
        "\n",
        "\n",
        "mySeries      # this singular statement will print information about the Series object 's'"
      ]
    },
    {
      "cell_type": "markdown",
      "metadata": {
        "id": "cMnWJnh-FDPm"
      },
      "source": [
        "A **Series** is a one-dimensional labeled array able to store any data type. The axis labels are collectively referred to as the **index**.\n",
        "\n",
        "<br> Note in the above code cell, our index just contains numbers. But we can change the index to be something else, like so:"
      ]
    },
    {
      "cell_type": "code",
      "execution_count": null,
      "metadata": {
        "colab": {
          "base_uri": "https://localhost:8080/"
        },
        "id": "8BtmTuRtFgG4",
        "outputId": "96bf8b93-c1a0-453d-c54f-05c1965266f6"
      },
      "outputs": [
        {
          "data": {
            "text/plain": [
              "4    NaN\n",
              "3    8.0\n",
              "2    7.0\n",
              "1    6.0\n",
              "0    5.0\n",
              "dtype: float64"
            ]
          },
          "execution_count": 22,
          "metadata": {},
          "output_type": "execute_result"
        }
      ],
      "source": [
        "indexes = [4, 3, 2, 1, 0]\n",
        "mySeries = mySeries.reindex(indexes)\n",
        "\n",
        "mySeries"
      ]
    },
    {
      "cell_type": "markdown",
      "metadata": {
        "id": "Jty93RcJGMEP"
      },
      "source": [
        "By default, values in the new index that do not have corresponding records in the current Series will be given a value `NaN`. This means Not A Number, as it is an empty field."
      ]
    },
    {
      "cell_type": "markdown",
      "metadata": {
        "id": "GB88348QD10v"
      },
      "source": [
        "Another important data structure in pandas is called the `dataframe`. It's similar to a spreadsheet like Excel. Unlike the Series data type, you can have more than one column, which can also have their own labels. Let's see an example below:"
      ]
    },
    {
      "cell_type": "code",
      "execution_count": null,
      "metadata": {
        "colab": {
          "base_uri": "https://localhost:8080/",
          "height": 112
        },
        "id": "5l9ittDYEGYy",
        "outputId": "965d6af6-4d9b-489c-b7db-ed99867cd0a6"
      },
      "outputs": [
        {
          "data": {
            "text/html": [
              "\n",
              "  <div id=\"df-0ff01939-a5e7-47b7-a463-c9c85efa3746\">\n",
              "    <div class=\"colab-df-container\">\n",
              "      <div>\n",
              "<style scoped>\n",
              "    .dataframe tbody tr th:only-of-type {\n",
              "        vertical-align: middle;\n",
              "    }\n",
              "\n",
              "    .dataframe tbody tr th {\n",
              "        vertical-align: top;\n",
              "    }\n",
              "\n",
              "    .dataframe thead th {\n",
              "        text-align: right;\n",
              "    }\n",
              "</style>\n",
              "<table border=\"1\" class=\"dataframe\">\n",
              "  <thead>\n",
              "    <tr style=\"text-align: right;\">\n",
              "      <th></th>\n",
              "      <th>col1</th>\n",
              "      <th>col2</th>\n",
              "    </tr>\n",
              "  </thead>\n",
              "  <tbody>\n",
              "    <tr>\n",
              "      <th>0</th>\n",
              "      <td>1</td>\n",
              "      <td>3</td>\n",
              "    </tr>\n",
              "    <tr>\n",
              "      <th>1</th>\n",
              "      <td>2</td>\n",
              "      <td>4</td>\n",
              "    </tr>\n",
              "  </tbody>\n",
              "</table>\n",
              "</div>\n",
              "      <button class=\"colab-df-convert\" onclick=\"convertToInteractive('df-0ff01939-a5e7-47b7-a463-c9c85efa3746')\"\n",
              "              title=\"Convert this dataframe to an interactive table.\"\n",
              "              style=\"display:none;\">\n",
              "        \n",
              "  <svg xmlns=\"http://www.w3.org/2000/svg\" height=\"24px\"viewBox=\"0 0 24 24\"\n",
              "       width=\"24px\">\n",
              "    <path d=\"M0 0h24v24H0V0z\" fill=\"none\"/>\n",
              "    <path d=\"M18.56 5.44l.94 2.06.94-2.06 2.06-.94-2.06-.94-.94-2.06-.94 2.06-2.06.94zm-11 1L8.5 8.5l.94-2.06 2.06-.94-2.06-.94L8.5 2.5l-.94 2.06-2.06.94zm10 10l.94 2.06.94-2.06 2.06-.94-2.06-.94-.94-2.06-.94 2.06-2.06.94z\"/><path d=\"M17.41 7.96l-1.37-1.37c-.4-.4-.92-.59-1.43-.59-.52 0-1.04.2-1.43.59L10.3 9.45l-7.72 7.72c-.78.78-.78 2.05 0 2.83L4 21.41c.39.39.9.59 1.41.59.51 0 1.02-.2 1.41-.59l7.78-7.78 2.81-2.81c.8-.78.8-2.07 0-2.86zM5.41 20L4 18.59l7.72-7.72 1.47 1.35L5.41 20z\"/>\n",
              "  </svg>\n",
              "      </button>\n",
              "      \n",
              "  <style>\n",
              "    .colab-df-container {\n",
              "      display:flex;\n",
              "      flex-wrap:wrap;\n",
              "      gap: 12px;\n",
              "    }\n",
              "\n",
              "    .colab-df-convert {\n",
              "      background-color: #E8F0FE;\n",
              "      border: none;\n",
              "      border-radius: 50%;\n",
              "      cursor: pointer;\n",
              "      display: none;\n",
              "      fill: #1967D2;\n",
              "      height: 32px;\n",
              "      padding: 0 0 0 0;\n",
              "      width: 32px;\n",
              "    }\n",
              "\n",
              "    .colab-df-convert:hover {\n",
              "      background-color: #E2EBFA;\n",
              "      box-shadow: 0px 1px 2px rgba(60, 64, 67, 0.3), 0px 1px 3px 1px rgba(60, 64, 67, 0.15);\n",
              "      fill: #174EA6;\n",
              "    }\n",
              "\n",
              "    [theme=dark] .colab-df-convert {\n",
              "      background-color: #3B4455;\n",
              "      fill: #D2E3FC;\n",
              "    }\n",
              "\n",
              "    [theme=dark] .colab-df-convert:hover {\n",
              "      background-color: #434B5C;\n",
              "      box-shadow: 0px 1px 3px 1px rgba(0, 0, 0, 0.15);\n",
              "      filter: drop-shadow(0px 1px 2px rgba(0, 0, 0, 0.3));\n",
              "      fill: #FFFFFF;\n",
              "    }\n",
              "  </style>\n",
              "\n",
              "      <script>\n",
              "        const buttonEl =\n",
              "          document.querySelector('#df-0ff01939-a5e7-47b7-a463-c9c85efa3746 button.colab-df-convert');\n",
              "        buttonEl.style.display =\n",
              "          google.colab.kernel.accessAllowed ? 'block' : 'none';\n",
              "\n",
              "        async function convertToInteractive(key) {\n",
              "          const element = document.querySelector('#df-0ff01939-a5e7-47b7-a463-c9c85efa3746');\n",
              "          const dataTable =\n",
              "            await google.colab.kernel.invokeFunction('convertToInteractive',\n",
              "                                                     [key], {});\n",
              "          if (!dataTable) return;\n",
              "\n",
              "          const docLinkHtml = 'Like what you see? Visit the ' +\n",
              "            '<a target=\"_blank\" href=https://colab.research.google.com/notebooks/data_table.ipynb>data table notebook</a>'\n",
              "            + ' to learn more about interactive tables.';\n",
              "          element.innerHTML = '';\n",
              "          dataTable['output_type'] = 'display_data';\n",
              "          await google.colab.output.renderOutput(dataTable, element);\n",
              "          const docLink = document.createElement('div');\n",
              "          docLink.innerHTML = docLinkHtml;\n",
              "          element.appendChild(docLink);\n",
              "        }\n",
              "      </script>\n",
              "    </div>\n",
              "  </div>\n",
              "  "
            ],
            "text/plain": [
              "   col1  col2\n",
              "0     1     3\n",
              "1     2     4"
            ]
          },
          "execution_count": 4,
          "metadata": {},
          "output_type": "execute_result"
        }
      ],
      "source": [
        "# Let's manually create a dataframe\n",
        "dataThing = {'col1': [1, 2], 'col2': [3, 4]}\n",
        "df = pd.DataFrame(data=dataThing)\n",
        "\n",
        "df  # Google Colab does this cool thing where it formats your data nicely:"
      ]
    },
    {
      "cell_type": "markdown",
      "metadata": {
        "id": "sDFGsbBLFd5L"
      },
      "source": [
        "Speaking of Excel, we can also import Excel spreadsheets and put them into dataframes. We do this through .csv files, which Excel has an export feature for. CSV stands for \"comma separated values\", which is a way to format a spreadsheet in a text file. \n",
        "\n",
        "<br>We'll use the `pandas.read_csv()` function to move our data.  Here is an example of reading csvs below using the file `test_data.csv`:"
      ]
    },
    {
      "cell_type": "code",
      "execution_count": 51,
      "metadata": {
        "colab": {
          "base_uri": "https://localhost:8080/",
          "height": 175
        },
        "id": "XExSScvsKgon",
        "outputId": "f0c8cd37-c6ce-4837-afa6-7b3326915fc5"
      },
      "outputs": [
        {
          "data": {
            "text/html": [
              "\n",
              "  <div id=\"df-8ccb23d8-bbbb-499d-aef5-891ba90c85fe\">\n",
              "    <div class=\"colab-df-container\">\n",
              "      <div>\n",
              "<style scoped>\n",
              "    .dataframe tbody tr th:only-of-type {\n",
              "        vertical-align: middle;\n",
              "    }\n",
              "\n",
              "    .dataframe tbody tr th {\n",
              "        vertical-align: top;\n",
              "    }\n",
              "\n",
              "    .dataframe thead th {\n",
              "        text-align: right;\n",
              "    }\n",
              "</style>\n",
              "<table border=\"1\" class=\"dataframe\">\n",
              "  <thead>\n",
              "    <tr style=\"text-align: right;\">\n",
              "      <th></th>\n",
              "      <th>students</th>\n",
              "      <th>test1</th>\n",
              "      <th>test2</th>\n",
              "      <th>test3</th>\n",
              "    </tr>\n",
              "  </thead>\n",
              "  <tbody>\n",
              "    <tr>\n",
              "      <th>0</th>\n",
              "      <td>Bobby</td>\n",
              "      <td>90</td>\n",
              "      <td>80</td>\n",
              "      <td>70</td>\n",
              "    </tr>\n",
              "    <tr>\n",
              "      <th>1</th>\n",
              "      <td>Bobbinson</td>\n",
              "      <td>0</td>\n",
              "      <td>2</td>\n",
              "      <td>4</td>\n",
              "    </tr>\n",
              "    <tr>\n",
              "      <th>2</th>\n",
              "      <td>Bobert</td>\n",
              "      <td>50</td>\n",
              "      <td>50</td>\n",
              "      <td>50</td>\n",
              "    </tr>\n",
              "    <tr>\n",
              "      <th>3</th>\n",
              "      <td>Bobemily</td>\n",
              "      <td>0</td>\n",
              "      <td>50</td>\n",
              "      <td>100</td>\n",
              "    </tr>\n",
              "  </tbody>\n",
              "</table>\n",
              "</div>\n",
              "      <button class=\"colab-df-convert\" onclick=\"convertToInteractive('df-8ccb23d8-bbbb-499d-aef5-891ba90c85fe')\"\n",
              "              title=\"Convert this dataframe to an interactive table.\"\n",
              "              style=\"display:none;\">\n",
              "        \n",
              "  <svg xmlns=\"http://www.w3.org/2000/svg\" height=\"24px\"viewBox=\"0 0 24 24\"\n",
              "       width=\"24px\">\n",
              "    <path d=\"M0 0h24v24H0V0z\" fill=\"none\"/>\n",
              "    <path d=\"M18.56 5.44l.94 2.06.94-2.06 2.06-.94-2.06-.94-.94-2.06-.94 2.06-2.06.94zm-11 1L8.5 8.5l.94-2.06 2.06-.94-2.06-.94L8.5 2.5l-.94 2.06-2.06.94zm10 10l.94 2.06.94-2.06 2.06-.94-2.06-.94-.94-2.06-.94 2.06-2.06.94z\"/><path d=\"M17.41 7.96l-1.37-1.37c-.4-.4-.92-.59-1.43-.59-.52 0-1.04.2-1.43.59L10.3 9.45l-7.72 7.72c-.78.78-.78 2.05 0 2.83L4 21.41c.39.39.9.59 1.41.59.51 0 1.02-.2 1.41-.59l7.78-7.78 2.81-2.81c.8-.78.8-2.07 0-2.86zM5.41 20L4 18.59l7.72-7.72 1.47 1.35L5.41 20z\"/>\n",
              "  </svg>\n",
              "      </button>\n",
              "      \n",
              "  <style>\n",
              "    .colab-df-container {\n",
              "      display:flex;\n",
              "      flex-wrap:wrap;\n",
              "      gap: 12px;\n",
              "    }\n",
              "\n",
              "    .colab-df-convert {\n",
              "      background-color: #E8F0FE;\n",
              "      border: none;\n",
              "      border-radius: 50%;\n",
              "      cursor: pointer;\n",
              "      display: none;\n",
              "      fill: #1967D2;\n",
              "      height: 32px;\n",
              "      padding: 0 0 0 0;\n",
              "      width: 32px;\n",
              "    }\n",
              "\n",
              "    .colab-df-convert:hover {\n",
              "      background-color: #E2EBFA;\n",
              "      box-shadow: 0px 1px 2px rgba(60, 64, 67, 0.3), 0px 1px 3px 1px rgba(60, 64, 67, 0.15);\n",
              "      fill: #174EA6;\n",
              "    }\n",
              "\n",
              "    [theme=dark] .colab-df-convert {\n",
              "      background-color: #3B4455;\n",
              "      fill: #D2E3FC;\n",
              "    }\n",
              "\n",
              "    [theme=dark] .colab-df-convert:hover {\n",
              "      background-color: #434B5C;\n",
              "      box-shadow: 0px 1px 3px 1px rgba(0, 0, 0, 0.15);\n",
              "      filter: drop-shadow(0px 1px 2px rgba(0, 0, 0, 0.3));\n",
              "      fill: #FFFFFF;\n",
              "    }\n",
              "  </style>\n",
              "\n",
              "      <script>\n",
              "        const buttonEl =\n",
              "          document.querySelector('#df-8ccb23d8-bbbb-499d-aef5-891ba90c85fe button.colab-df-convert');\n",
              "        buttonEl.style.display =\n",
              "          google.colab.kernel.accessAllowed ? 'block' : 'none';\n",
              "\n",
              "        async function convertToInteractive(key) {\n",
              "          const element = document.querySelector('#df-8ccb23d8-bbbb-499d-aef5-891ba90c85fe');\n",
              "          const dataTable =\n",
              "            await google.colab.kernel.invokeFunction('convertToInteractive',\n",
              "                                                     [key], {});\n",
              "          if (!dataTable) return;\n",
              "\n",
              "          const docLinkHtml = 'Like what you see? Visit the ' +\n",
              "            '<a target=\"_blank\" href=https://colab.research.google.com/notebooks/data_table.ipynb>data table notebook</a>'\n",
              "            + ' to learn more about interactive tables.';\n",
              "          element.innerHTML = '';\n",
              "          dataTable['output_type'] = 'display_data';\n",
              "          await google.colab.output.renderOutput(dataTable, element);\n",
              "          const docLink = document.createElement('div');\n",
              "          docLink.innerHTML = docLinkHtml;\n",
              "          element.appendChild(docLink);\n",
              "        }\n",
              "      </script>\n",
              "    </div>\n",
              "  </div>\n",
              "  "
            ],
            "text/plain": [
              "    students  test1  test2  test3\n",
              "0      Bobby     90     80     70\n",
              "1  Bobbinson      0      2      4\n",
              "2     Bobert     50     50     50\n",
              "3   Bobemily      0     50    100"
            ]
          },
          "execution_count": 51,
          "metadata": {},
          "output_type": "execute_result"
        }
      ],
      "source": [
        "df = pd.read_csv('test_data.csv')  \n",
        "\n",
        "df"
      ]
    },
    {
      "cell_type": "markdown",
      "metadata": {
        "id": "GURxI1weL2bf"
      },
      "source": [
        "Let's index using the column of names instead:"
      ]
    },
    {
      "cell_type": "code",
      "execution_count": 21,
      "metadata": {
        "colab": {
          "base_uri": "https://localhost:8080/",
          "height": 206
        },
        "id": "q5CZ1SURL5OQ",
        "outputId": "a4448bfd-f160-4ed8-d527-463a0374b9c0"
      },
      "outputs": [
        {
          "data": {
            "text/html": [
              "\n",
              "  <div id=\"df-b1d17a7b-a186-4bf9-94ad-987d78e4f927\">\n",
              "    <div class=\"colab-df-container\">\n",
              "      <div>\n",
              "<style scoped>\n",
              "    .dataframe tbody tr th:only-of-type {\n",
              "        vertical-align: middle;\n",
              "    }\n",
              "\n",
              "    .dataframe tbody tr th {\n",
              "        vertical-align: top;\n",
              "    }\n",
              "\n",
              "    .dataframe thead th {\n",
              "        text-align: right;\n",
              "    }\n",
              "</style>\n",
              "<table border=\"1\" class=\"dataframe\">\n",
              "  <thead>\n",
              "    <tr style=\"text-align: right;\">\n",
              "      <th></th>\n",
              "      <th>test1</th>\n",
              "      <th>test2</th>\n",
              "      <th>test3</th>\n",
              "    </tr>\n",
              "    <tr>\n",
              "      <th>students</th>\n",
              "      <th></th>\n",
              "      <th></th>\n",
              "      <th></th>\n",
              "    </tr>\n",
              "  </thead>\n",
              "  <tbody>\n",
              "    <tr>\n",
              "      <th>Bobby</th>\n",
              "      <td>90</td>\n",
              "      <td>80</td>\n",
              "      <td>70</td>\n",
              "    </tr>\n",
              "    <tr>\n",
              "      <th>Bobbinson</th>\n",
              "      <td>0</td>\n",
              "      <td>2</td>\n",
              "      <td>4</td>\n",
              "    </tr>\n",
              "    <tr>\n",
              "      <th>Bobert</th>\n",
              "      <td>50</td>\n",
              "      <td>50</td>\n",
              "      <td>50</td>\n",
              "    </tr>\n",
              "    <tr>\n",
              "      <th>Bobemily</th>\n",
              "      <td>0</td>\n",
              "      <td>50</td>\n",
              "      <td>100</td>\n",
              "    </tr>\n",
              "  </tbody>\n",
              "</table>\n",
              "</div>\n",
              "      <button class=\"colab-df-convert\" onclick=\"convertToInteractive('df-b1d17a7b-a186-4bf9-94ad-987d78e4f927')\"\n",
              "              title=\"Convert this dataframe to an interactive table.\"\n",
              "              style=\"display:none;\">\n",
              "        \n",
              "  <svg xmlns=\"http://www.w3.org/2000/svg\" height=\"24px\"viewBox=\"0 0 24 24\"\n",
              "       width=\"24px\">\n",
              "    <path d=\"M0 0h24v24H0V0z\" fill=\"none\"/>\n",
              "    <path d=\"M18.56 5.44l.94 2.06.94-2.06 2.06-.94-2.06-.94-.94-2.06-.94 2.06-2.06.94zm-11 1L8.5 8.5l.94-2.06 2.06-.94-2.06-.94L8.5 2.5l-.94 2.06-2.06.94zm10 10l.94 2.06.94-2.06 2.06-.94-2.06-.94-.94-2.06-.94 2.06-2.06.94z\"/><path d=\"M17.41 7.96l-1.37-1.37c-.4-.4-.92-.59-1.43-.59-.52 0-1.04.2-1.43.59L10.3 9.45l-7.72 7.72c-.78.78-.78 2.05 0 2.83L4 21.41c.39.39.9.59 1.41.59.51 0 1.02-.2 1.41-.59l7.78-7.78 2.81-2.81c.8-.78.8-2.07 0-2.86zM5.41 20L4 18.59l7.72-7.72 1.47 1.35L5.41 20z\"/>\n",
              "  </svg>\n",
              "      </button>\n",
              "      \n",
              "  <style>\n",
              "    .colab-df-container {\n",
              "      display:flex;\n",
              "      flex-wrap:wrap;\n",
              "      gap: 12px;\n",
              "    }\n",
              "\n",
              "    .colab-df-convert {\n",
              "      background-color: #E8F0FE;\n",
              "      border: none;\n",
              "      border-radius: 50%;\n",
              "      cursor: pointer;\n",
              "      display: none;\n",
              "      fill: #1967D2;\n",
              "      height: 32px;\n",
              "      padding: 0 0 0 0;\n",
              "      width: 32px;\n",
              "    }\n",
              "\n",
              "    .colab-df-convert:hover {\n",
              "      background-color: #E2EBFA;\n",
              "      box-shadow: 0px 1px 2px rgba(60, 64, 67, 0.3), 0px 1px 3px 1px rgba(60, 64, 67, 0.15);\n",
              "      fill: #174EA6;\n",
              "    }\n",
              "\n",
              "    [theme=dark] .colab-df-convert {\n",
              "      background-color: #3B4455;\n",
              "      fill: #D2E3FC;\n",
              "    }\n",
              "\n",
              "    [theme=dark] .colab-df-convert:hover {\n",
              "      background-color: #434B5C;\n",
              "      box-shadow: 0px 1px 3px 1px rgba(0, 0, 0, 0.15);\n",
              "      filter: drop-shadow(0px 1px 2px rgba(0, 0, 0, 0.3));\n",
              "      fill: #FFFFFF;\n",
              "    }\n",
              "  </style>\n",
              "\n",
              "      <script>\n",
              "        const buttonEl =\n",
              "          document.querySelector('#df-b1d17a7b-a186-4bf9-94ad-987d78e4f927 button.colab-df-convert');\n",
              "        buttonEl.style.display =\n",
              "          google.colab.kernel.accessAllowed ? 'block' : 'none';\n",
              "\n",
              "        async function convertToInteractive(key) {\n",
              "          const element = document.querySelector('#df-b1d17a7b-a186-4bf9-94ad-987d78e4f927');\n",
              "          const dataTable =\n",
              "            await google.colab.kernel.invokeFunction('convertToInteractive',\n",
              "                                                     [key], {});\n",
              "          if (!dataTable) return;\n",
              "\n",
              "          const docLinkHtml = 'Like what you see? Visit the ' +\n",
              "            '<a target=\"_blank\" href=https://colab.research.google.com/notebooks/data_table.ipynb>data table notebook</a>'\n",
              "            + ' to learn more about interactive tables.';\n",
              "          element.innerHTML = '';\n",
              "          dataTable['output_type'] = 'display_data';\n",
              "          await google.colab.output.renderOutput(dataTable, element);\n",
              "          const docLink = document.createElement('div');\n",
              "          docLink.innerHTML = docLinkHtml;\n",
              "          element.appendChild(docLink);\n",
              "        }\n",
              "      </script>\n",
              "    </div>\n",
              "  </div>\n",
              "  "
            ],
            "text/plain": [
              "           test1  test2  test3\n",
              "students                      \n",
              "Bobby         90     80     70\n",
              "Bobbinson      0      2      4\n",
              "Bobert        50     50     50\n",
              "Bobemily       0     50    100"
            ]
          },
          "execution_count": 21,
          "metadata": {},
          "output_type": "execute_result"
        }
      ],
      "source": [
        "df.set_index('students', inplace=True)\n",
        "\n",
        "df"
      ]
    },
    {
      "cell_type": "markdown",
      "metadata": {
        "id": "Pbr6xJLjETiC"
      },
      "source": [
        "Let's saw we want to add a new column to calculate the averages for each row. This will give us the average score for each student across all tests. This can be done like so:"
      ]
    },
    {
      "cell_type": "code",
      "execution_count": 37,
      "metadata": {
        "colab": {
          "base_uri": "https://localhost:8080/",
          "height": 206
        },
        "id": "BbMlGUeJEa6D",
        "outputId": "cdaecead-a54a-4f6e-d60f-d4d15d60c55f"
      },
      "outputs": [
        {
          "data": {
            "text/html": [
              "\n",
              "  <div id=\"df-97bb9a80-bdfb-4630-81e8-648ac3d89544\">\n",
              "    <div class=\"colab-df-container\">\n",
              "      <div>\n",
              "<style scoped>\n",
              "    .dataframe tbody tr th:only-of-type {\n",
              "        vertical-align: middle;\n",
              "    }\n",
              "\n",
              "    .dataframe tbody tr th {\n",
              "        vertical-align: top;\n",
              "    }\n",
              "\n",
              "    .dataframe thead th {\n",
              "        text-align: right;\n",
              "    }\n",
              "</style>\n",
              "<table border=\"1\" class=\"dataframe\">\n",
              "  <thead>\n",
              "    <tr style=\"text-align: right;\">\n",
              "      <th></th>\n",
              "      <th>test1</th>\n",
              "      <th>test2</th>\n",
              "      <th>test3</th>\n",
              "      <th>averages</th>\n",
              "    </tr>\n",
              "    <tr>\n",
              "      <th>students</th>\n",
              "      <th></th>\n",
              "      <th></th>\n",
              "      <th></th>\n",
              "      <th></th>\n",
              "    </tr>\n",
              "  </thead>\n",
              "  <tbody>\n",
              "    <tr>\n",
              "      <th>Bobby</th>\n",
              "      <td>90</td>\n",
              "      <td>80</td>\n",
              "      <td>70</td>\n",
              "      <td>80.0</td>\n",
              "    </tr>\n",
              "    <tr>\n",
              "      <th>Bobbinson</th>\n",
              "      <td>0</td>\n",
              "      <td>2</td>\n",
              "      <td>4</td>\n",
              "      <td>2.0</td>\n",
              "    </tr>\n",
              "    <tr>\n",
              "      <th>Bobert</th>\n",
              "      <td>50</td>\n",
              "      <td>50</td>\n",
              "      <td>50</td>\n",
              "      <td>50.0</td>\n",
              "    </tr>\n",
              "    <tr>\n",
              "      <th>Bobemily</th>\n",
              "      <td>0</td>\n",
              "      <td>50</td>\n",
              "      <td>100</td>\n",
              "      <td>50.0</td>\n",
              "    </tr>\n",
              "  </tbody>\n",
              "</table>\n",
              "</div>\n",
              "      <button class=\"colab-df-convert\" onclick=\"convertToInteractive('df-97bb9a80-bdfb-4630-81e8-648ac3d89544')\"\n",
              "              title=\"Convert this dataframe to an interactive table.\"\n",
              "              style=\"display:none;\">\n",
              "        \n",
              "  <svg xmlns=\"http://www.w3.org/2000/svg\" height=\"24px\"viewBox=\"0 0 24 24\"\n",
              "       width=\"24px\">\n",
              "    <path d=\"M0 0h24v24H0V0z\" fill=\"none\"/>\n",
              "    <path d=\"M18.56 5.44l.94 2.06.94-2.06 2.06-.94-2.06-.94-.94-2.06-.94 2.06-2.06.94zm-11 1L8.5 8.5l.94-2.06 2.06-.94-2.06-.94L8.5 2.5l-.94 2.06-2.06.94zm10 10l.94 2.06.94-2.06 2.06-.94-2.06-.94-.94-2.06-.94 2.06-2.06.94z\"/><path d=\"M17.41 7.96l-1.37-1.37c-.4-.4-.92-.59-1.43-.59-.52 0-1.04.2-1.43.59L10.3 9.45l-7.72 7.72c-.78.78-.78 2.05 0 2.83L4 21.41c.39.39.9.59 1.41.59.51 0 1.02-.2 1.41-.59l7.78-7.78 2.81-2.81c.8-.78.8-2.07 0-2.86zM5.41 20L4 18.59l7.72-7.72 1.47 1.35L5.41 20z\"/>\n",
              "  </svg>\n",
              "      </button>\n",
              "      \n",
              "  <style>\n",
              "    .colab-df-container {\n",
              "      display:flex;\n",
              "      flex-wrap:wrap;\n",
              "      gap: 12px;\n",
              "    }\n",
              "\n",
              "    .colab-df-convert {\n",
              "      background-color: #E8F0FE;\n",
              "      border: none;\n",
              "      border-radius: 50%;\n",
              "      cursor: pointer;\n",
              "      display: none;\n",
              "      fill: #1967D2;\n",
              "      height: 32px;\n",
              "      padding: 0 0 0 0;\n",
              "      width: 32px;\n",
              "    }\n",
              "\n",
              "    .colab-df-convert:hover {\n",
              "      background-color: #E2EBFA;\n",
              "      box-shadow: 0px 1px 2px rgba(60, 64, 67, 0.3), 0px 1px 3px 1px rgba(60, 64, 67, 0.15);\n",
              "      fill: #174EA6;\n",
              "    }\n",
              "\n",
              "    [theme=dark] .colab-df-convert {\n",
              "      background-color: #3B4455;\n",
              "      fill: #D2E3FC;\n",
              "    }\n",
              "\n",
              "    [theme=dark] .colab-df-convert:hover {\n",
              "      background-color: #434B5C;\n",
              "      box-shadow: 0px 1px 3px 1px rgba(0, 0, 0, 0.15);\n",
              "      filter: drop-shadow(0px 1px 2px rgba(0, 0, 0, 0.3));\n",
              "      fill: #FFFFFF;\n",
              "    }\n",
              "  </style>\n",
              "\n",
              "      <script>\n",
              "        const buttonEl =\n",
              "          document.querySelector('#df-97bb9a80-bdfb-4630-81e8-648ac3d89544 button.colab-df-convert');\n",
              "        buttonEl.style.display =\n",
              "          google.colab.kernel.accessAllowed ? 'block' : 'none';\n",
              "\n",
              "        async function convertToInteractive(key) {\n",
              "          const element = document.querySelector('#df-97bb9a80-bdfb-4630-81e8-648ac3d89544');\n",
              "          const dataTable =\n",
              "            await google.colab.kernel.invokeFunction('convertToInteractive',\n",
              "                                                     [key], {});\n",
              "          if (!dataTable) return;\n",
              "\n",
              "          const docLinkHtml = 'Like what you see? Visit the ' +\n",
              "            '<a target=\"_blank\" href=https://colab.research.google.com/notebooks/data_table.ipynb>data table notebook</a>'\n",
              "            + ' to learn more about interactive tables.';\n",
              "          element.innerHTML = '';\n",
              "          dataTable['output_type'] = 'display_data';\n",
              "          await google.colab.output.renderOutput(dataTable, element);\n",
              "          const docLink = document.createElement('div');\n",
              "          docLink.innerHTML = docLinkHtml;\n",
              "          element.appendChild(docLink);\n",
              "        }\n",
              "      </script>\n",
              "    </div>\n",
              "  </div>\n",
              "  "
            ],
            "text/plain": [
              "           test1  test2  test3  averages\n",
              "students                                \n",
              "Bobby         90     80     70      80.0\n",
              "Bobbinson      0      2      4       2.0\n",
              "Bobert        50     50     50      50.0\n",
              "Bobemily       0     50    100      50.0"
            ]
          },
          "execution_count": 37,
          "metadata": {},
          "output_type": "execute_result"
        }
      ],
      "source": [
        "averagesList = df.mean(axis=1)\n",
        "\n",
        "df[\"averages\"] = averagesList\n",
        "\n",
        "df"
      ]
    },
    {
      "cell_type": "markdown",
      "metadata": {
        "id": "87oWdfN0Es-Z"
      },
      "source": [
        "Note that we specified that the axis should be \"1\". An axis of 1 means the function is applied over the indexes/rows, whereas an axis of 0 means we apply the average across the columns. If we wanted to instead find the average score for a single test, we would use an axis of 0. Let's see what this looks like:"
      ]
    },
    {
      "cell_type": "code",
      "execution_count": 42,
      "metadata": {
        "colab": {
          "base_uri": "https://localhost:8080/"
        },
        "id": "0NGfSjeYFED6",
        "outputId": "32ed1e85-ec39-46da-b606-b2f49ded6e68"
      },
      "outputs": [
        {
          "data": {
            "text/plain": [
              "test1       35.0\n",
              "test2       45.5\n",
              "test3       56.0\n",
              "averages    45.5\n",
              "Name: test_avgs, dtype: float64"
            ]
          },
          "execution_count": 42,
          "metadata": {},
          "output_type": "execute_result"
        }
      ],
      "source": [
        "test_avgs = df.mean(axis=0)\n",
        "test_avgs.index = df.columns\n",
        "\n",
        "test_avgs"
      ]
    },
    {
      "cell_type": "markdown",
      "metadata": {
        "id": "iNZZL-f6Oo0w"
      },
      "source": [
        "##Data Visualisation"
      ]
    },
    {
      "cell_type": "code",
      "execution_count": 46,
      "metadata": {
        "colab": {
          "base_uri": "https://localhost:8080/",
          "height": 542
        },
        "id": "5S9fpPMtDGU5",
        "outputId": "629790c8-ff7d-41e7-f0be-0208abfa7669"
      },
      "outputs": [
        {
          "data": {
            "text/html": [
              "<html>\n",
              "<head><meta charset=\"utf-8\" /></head>\n",
              "<body>\n",
              "    <div>            <script src=\"https://cdnjs.cloudflare.com/ajax/libs/mathjax/2.7.5/MathJax.js?config=TeX-AMS-MML_SVG\"></script><script type=\"text/javascript\">if (window.MathJax) {MathJax.Hub.Config({SVG: {font: \"STIX-Web\"}});}</script>                <script type=\"text/javascript\">window.PlotlyConfig = {MathJaxConfig: 'local'};</script>\n",
              "        <script src=\"https://cdn.plot.ly/plotly-2.8.3.min.js\"></script>                <div id=\"55945c60-c093-4a0c-86d1-3fda0acac8e5\" class=\"plotly-graph-div\" style=\"height:525px; width:100%;\"></div>            <script type=\"text/javascript\">                                    window.PLOTLYENV=window.PLOTLYENV || {};                                    if (document.getElementById(\"55945c60-c093-4a0c-86d1-3fda0acac8e5\")) {                    Plotly.newPlot(                        \"55945c60-c093-4a0c-86d1-3fda0acac8e5\",                        [{\"alignmentgroup\":\"True\",\"hovertemplate\":\"variable=test_avgs<br>index=%{x}<br>value=%{y}<extra></extra>\",\"legendgroup\":\"test_avgs\",\"marker\":{\"color\":\"#636efa\",\"pattern\":{\"shape\":\"\"}},\"name\":\"test_avgs\",\"offsetgroup\":\"test_avgs\",\"orientation\":\"v\",\"showlegend\":true,\"textposition\":\"auto\",\"x\":[\"test1\",\"test2\",\"test3\",\"averages\"],\"xaxis\":\"x\",\"y\":[35.0,45.5,56.0,45.5],\"yaxis\":\"y\",\"type\":\"bar\"}],                        {\"template\":{\"data\":{\"bar\":[{\"error_x\":{\"color\":\"#2a3f5f\"},\"error_y\":{\"color\":\"#2a3f5f\"},\"marker\":{\"line\":{\"color\":\"#E5ECF6\",\"width\":0.5},\"pattern\":{\"fillmode\":\"overlay\",\"size\":10,\"solidity\":0.2}},\"type\":\"bar\"}],\"barpolar\":[{\"marker\":{\"line\":{\"color\":\"#E5ECF6\",\"width\":0.5},\"pattern\":{\"fillmode\":\"overlay\",\"size\":10,\"solidity\":0.2}},\"type\":\"barpolar\"}],\"carpet\":[{\"aaxis\":{\"endlinecolor\":\"#2a3f5f\",\"gridcolor\":\"white\",\"linecolor\":\"white\",\"minorgridcolor\":\"white\",\"startlinecolor\":\"#2a3f5f\"},\"baxis\":{\"endlinecolor\":\"#2a3f5f\",\"gridcolor\":\"white\",\"linecolor\":\"white\",\"minorgridcolor\":\"white\",\"startlinecolor\":\"#2a3f5f\"},\"type\":\"carpet\"}],\"choropleth\":[{\"colorbar\":{\"outlinewidth\":0,\"ticks\":\"\"},\"type\":\"choropleth\"}],\"contour\":[{\"colorbar\":{\"outlinewidth\":0,\"ticks\":\"\"},\"colorscale\":[[0.0,\"#0d0887\"],[0.1111111111111111,\"#46039f\"],[0.2222222222222222,\"#7201a8\"],[0.3333333333333333,\"#9c179e\"],[0.4444444444444444,\"#bd3786\"],[0.5555555555555556,\"#d8576b\"],[0.6666666666666666,\"#ed7953\"],[0.7777777777777778,\"#fb9f3a\"],[0.8888888888888888,\"#fdca26\"],[1.0,\"#f0f921\"]],\"type\":\"contour\"}],\"contourcarpet\":[{\"colorbar\":{\"outlinewidth\":0,\"ticks\":\"\"},\"type\":\"contourcarpet\"}],\"heatmap\":[{\"colorbar\":{\"outlinewidth\":0,\"ticks\":\"\"},\"colorscale\":[[0.0,\"#0d0887\"],[0.1111111111111111,\"#46039f\"],[0.2222222222222222,\"#7201a8\"],[0.3333333333333333,\"#9c179e\"],[0.4444444444444444,\"#bd3786\"],[0.5555555555555556,\"#d8576b\"],[0.6666666666666666,\"#ed7953\"],[0.7777777777777778,\"#fb9f3a\"],[0.8888888888888888,\"#fdca26\"],[1.0,\"#f0f921\"]],\"type\":\"heatmap\"}],\"heatmapgl\":[{\"colorbar\":{\"outlinewidth\":0,\"ticks\":\"\"},\"colorscale\":[[0.0,\"#0d0887\"],[0.1111111111111111,\"#46039f\"],[0.2222222222222222,\"#7201a8\"],[0.3333333333333333,\"#9c179e\"],[0.4444444444444444,\"#bd3786\"],[0.5555555555555556,\"#d8576b\"],[0.6666666666666666,\"#ed7953\"],[0.7777777777777778,\"#fb9f3a\"],[0.8888888888888888,\"#fdca26\"],[1.0,\"#f0f921\"]],\"type\":\"heatmapgl\"}],\"histogram\":[{\"marker\":{\"pattern\":{\"fillmode\":\"overlay\",\"size\":10,\"solidity\":0.2}},\"type\":\"histogram\"}],\"histogram2d\":[{\"colorbar\":{\"outlinewidth\":0,\"ticks\":\"\"},\"colorscale\":[[0.0,\"#0d0887\"],[0.1111111111111111,\"#46039f\"],[0.2222222222222222,\"#7201a8\"],[0.3333333333333333,\"#9c179e\"],[0.4444444444444444,\"#bd3786\"],[0.5555555555555556,\"#d8576b\"],[0.6666666666666666,\"#ed7953\"],[0.7777777777777778,\"#fb9f3a\"],[0.8888888888888888,\"#fdca26\"],[1.0,\"#f0f921\"]],\"type\":\"histogram2d\"}],\"histogram2dcontour\":[{\"colorbar\":{\"outlinewidth\":0,\"ticks\":\"\"},\"colorscale\":[[0.0,\"#0d0887\"],[0.1111111111111111,\"#46039f\"],[0.2222222222222222,\"#7201a8\"],[0.3333333333333333,\"#9c179e\"],[0.4444444444444444,\"#bd3786\"],[0.5555555555555556,\"#d8576b\"],[0.6666666666666666,\"#ed7953\"],[0.7777777777777778,\"#fb9f3a\"],[0.8888888888888888,\"#fdca26\"],[1.0,\"#f0f921\"]],\"type\":\"histogram2dcontour\"}],\"mesh3d\":[{\"colorbar\":{\"outlinewidth\":0,\"ticks\":\"\"},\"type\":\"mesh3d\"}],\"parcoords\":[{\"line\":{\"colorbar\":{\"outlinewidth\":0,\"ticks\":\"\"}},\"type\":\"parcoords\"}],\"pie\":[{\"automargin\":true,\"type\":\"pie\"}],\"scatter\":[{\"marker\":{\"colorbar\":{\"outlinewidth\":0,\"ticks\":\"\"}},\"type\":\"scatter\"}],\"scatter3d\":[{\"line\":{\"colorbar\":{\"outlinewidth\":0,\"ticks\":\"\"}},\"marker\":{\"colorbar\":{\"outlinewidth\":0,\"ticks\":\"\"}},\"type\":\"scatter3d\"}],\"scattercarpet\":[{\"marker\":{\"colorbar\":{\"outlinewidth\":0,\"ticks\":\"\"}},\"type\":\"scattercarpet\"}],\"scattergeo\":[{\"marker\":{\"colorbar\":{\"outlinewidth\":0,\"ticks\":\"\"}},\"type\":\"scattergeo\"}],\"scattergl\":[{\"marker\":{\"colorbar\":{\"outlinewidth\":0,\"ticks\":\"\"}},\"type\":\"scattergl\"}],\"scattermapbox\":[{\"marker\":{\"colorbar\":{\"outlinewidth\":0,\"ticks\":\"\"}},\"type\":\"scattermapbox\"}],\"scatterpolar\":[{\"marker\":{\"colorbar\":{\"outlinewidth\":0,\"ticks\":\"\"}},\"type\":\"scatterpolar\"}],\"scatterpolargl\":[{\"marker\":{\"colorbar\":{\"outlinewidth\":0,\"ticks\":\"\"}},\"type\":\"scatterpolargl\"}],\"scatterternary\":[{\"marker\":{\"colorbar\":{\"outlinewidth\":0,\"ticks\":\"\"}},\"type\":\"scatterternary\"}],\"surface\":[{\"colorbar\":{\"outlinewidth\":0,\"ticks\":\"\"},\"colorscale\":[[0.0,\"#0d0887\"],[0.1111111111111111,\"#46039f\"],[0.2222222222222222,\"#7201a8\"],[0.3333333333333333,\"#9c179e\"],[0.4444444444444444,\"#bd3786\"],[0.5555555555555556,\"#d8576b\"],[0.6666666666666666,\"#ed7953\"],[0.7777777777777778,\"#fb9f3a\"],[0.8888888888888888,\"#fdca26\"],[1.0,\"#f0f921\"]],\"type\":\"surface\"}],\"table\":[{\"cells\":{\"fill\":{\"color\":\"#EBF0F8\"},\"line\":{\"color\":\"white\"}},\"header\":{\"fill\":{\"color\":\"#C8D4E3\"},\"line\":{\"color\":\"white\"}},\"type\":\"table\"}]},\"layout\":{\"annotationdefaults\":{\"arrowcolor\":\"#2a3f5f\",\"arrowhead\":0,\"arrowwidth\":1},\"autotypenumbers\":\"strict\",\"coloraxis\":{\"colorbar\":{\"outlinewidth\":0,\"ticks\":\"\"}},\"colorscale\":{\"diverging\":[[0,\"#8e0152\"],[0.1,\"#c51b7d\"],[0.2,\"#de77ae\"],[0.3,\"#f1b6da\"],[0.4,\"#fde0ef\"],[0.5,\"#f7f7f7\"],[0.6,\"#e6f5d0\"],[0.7,\"#b8e186\"],[0.8,\"#7fbc41\"],[0.9,\"#4d9221\"],[1,\"#276419\"]],\"sequential\":[[0.0,\"#0d0887\"],[0.1111111111111111,\"#46039f\"],[0.2222222222222222,\"#7201a8\"],[0.3333333333333333,\"#9c179e\"],[0.4444444444444444,\"#bd3786\"],[0.5555555555555556,\"#d8576b\"],[0.6666666666666666,\"#ed7953\"],[0.7777777777777778,\"#fb9f3a\"],[0.8888888888888888,\"#fdca26\"],[1.0,\"#f0f921\"]],\"sequentialminus\":[[0.0,\"#0d0887\"],[0.1111111111111111,\"#46039f\"],[0.2222222222222222,\"#7201a8\"],[0.3333333333333333,\"#9c179e\"],[0.4444444444444444,\"#bd3786\"],[0.5555555555555556,\"#d8576b\"],[0.6666666666666666,\"#ed7953\"],[0.7777777777777778,\"#fb9f3a\"],[0.8888888888888888,\"#fdca26\"],[1.0,\"#f0f921\"]]},\"colorway\":[\"#636efa\",\"#EF553B\",\"#00cc96\",\"#ab63fa\",\"#FFA15A\",\"#19d3f3\",\"#FF6692\",\"#B6E880\",\"#FF97FF\",\"#FECB52\"],\"font\":{\"color\":\"#2a3f5f\"},\"geo\":{\"bgcolor\":\"white\",\"lakecolor\":\"white\",\"landcolor\":\"#E5ECF6\",\"showlakes\":true,\"showland\":true,\"subunitcolor\":\"white\"},\"hoverlabel\":{\"align\":\"left\"},\"hovermode\":\"closest\",\"mapbox\":{\"style\":\"light\"},\"paper_bgcolor\":\"white\",\"plot_bgcolor\":\"#E5ECF6\",\"polar\":{\"angularaxis\":{\"gridcolor\":\"white\",\"linecolor\":\"white\",\"ticks\":\"\"},\"bgcolor\":\"#E5ECF6\",\"radialaxis\":{\"gridcolor\":\"white\",\"linecolor\":\"white\",\"ticks\":\"\"}},\"scene\":{\"xaxis\":{\"backgroundcolor\":\"#E5ECF6\",\"gridcolor\":\"white\",\"gridwidth\":2,\"linecolor\":\"white\",\"showbackground\":true,\"ticks\":\"\",\"zerolinecolor\":\"white\"},\"yaxis\":{\"backgroundcolor\":\"#E5ECF6\",\"gridcolor\":\"white\",\"gridwidth\":2,\"linecolor\":\"white\",\"showbackground\":true,\"ticks\":\"\",\"zerolinecolor\":\"white\"},\"zaxis\":{\"backgroundcolor\":\"#E5ECF6\",\"gridcolor\":\"white\",\"gridwidth\":2,\"linecolor\":\"white\",\"showbackground\":true,\"ticks\":\"\",\"zerolinecolor\":\"white\"}},\"shapedefaults\":{\"line\":{\"color\":\"#2a3f5f\"}},\"ternary\":{\"aaxis\":{\"gridcolor\":\"white\",\"linecolor\":\"white\",\"ticks\":\"\"},\"baxis\":{\"gridcolor\":\"white\",\"linecolor\":\"white\",\"ticks\":\"\"},\"bgcolor\":\"#E5ECF6\",\"caxis\":{\"gridcolor\":\"white\",\"linecolor\":\"white\",\"ticks\":\"\"}},\"title\":{\"x\":0.05},\"xaxis\":{\"automargin\":true,\"gridcolor\":\"white\",\"linecolor\":\"white\",\"ticks\":\"\",\"title\":{\"standoff\":15},\"zerolinecolor\":\"white\",\"zerolinewidth\":2},\"yaxis\":{\"automargin\":true,\"gridcolor\":\"white\",\"linecolor\":\"white\",\"ticks\":\"\",\"title\":{\"standoff\":15},\"zerolinecolor\":\"white\",\"zerolinewidth\":2}}},\"xaxis\":{\"anchor\":\"y\",\"domain\":[0.0,1.0],\"title\":{\"text\":\"index\"}},\"yaxis\":{\"anchor\":\"x\",\"domain\":[0.0,1.0],\"title\":{\"text\":\"value\"}},\"legend\":{\"title\":{\"text\":\"variable\"},\"tracegroupgap\":0},\"margin\":{\"t\":60},\"barmode\":\"relative\"},                        {\"responsive\": true}                    ).then(function(){\n",
              "                            \n",
              "var gd = document.getElementById('55945c60-c093-4a0c-86d1-3fda0acac8e5');\n",
              "var x = new MutationObserver(function (mutations, observer) {{\n",
              "        var display = window.getComputedStyle(gd).display;\n",
              "        if (!display || display === 'none') {{\n",
              "            console.log([gd, 'removed!']);\n",
              "            Plotly.purge(gd);\n",
              "            observer.disconnect();\n",
              "        }}\n",
              "}});\n",
              "\n",
              "// Listen for the removal of the full notebook cells\n",
              "var notebookContainer = gd.closest('#notebook-container');\n",
              "if (notebookContainer) {{\n",
              "    x.observe(notebookContainer, {childList: true});\n",
              "}}\n",
              "\n",
              "// Listen for the clearing of the current output cell\n",
              "var outputEl = gd.closest('.output');\n",
              "if (outputEl) {{\n",
              "    x.observe(outputEl, {childList: true});\n",
              "}}\n",
              "\n",
              "                        })                };                            </script>        </div>\n",
              "</body>\n",
              "</html>"
            ]
          },
          "metadata": {},
          "output_type": "display_data"
        }
      ],
      "source": [
        "import pandas as pd\n",
        "pd.options.plotting.backend = \"plotly\"\n",
        "\n",
        "df = pd.read_csv('test_data.csv') \n",
        "df[\"averages\"] = df.mean(axis=1)\n",
        "fig = test_avgs.plot(kind=\"bar\")\n",
        "fig.show()"
      ]
    }
  ],
  "metadata": {
    "colab": {
      "collapsed_sections": [],
      "name": "URC x EWB Python Workshop",
      "provenance": []
    },
    "kernelspec": {
      "display_name": "Python 3",
      "name": "python3"
    },
    "language_info": {
      "name": "python"
    }
  },
  "nbformat": 4,
  "nbformat_minor": 0
}
